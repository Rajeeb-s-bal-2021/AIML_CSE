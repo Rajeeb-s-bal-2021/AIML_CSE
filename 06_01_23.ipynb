{
  "nbformat": 4,
  "nbformat_minor": 0,
  "metadata": {
    "colab": {
      "provenance": [],
      "authorship_tag": "ABX9TyOVcB6HyMsOZaleQc6pEz9J",
      "include_colab_link": true
    },
    "kernelspec": {
      "name": "python3",
      "display_name": "Python 3"
    },
    "language_info": {
      "name": "python"
    }
  },
  "cells": [
    {
      "cell_type": "markdown",
      "metadata": {
        "id": "view-in-github",
        "colab_type": "text"
      },
      "source": [
        "<a href=\"https://colab.research.google.com/github/Rajeeb-s-bal-2021/RAJIV_AIML/blob/main/06_01_23.ipynb\" target=\"_parent\"><img src=\"https://colab.research.google.com/assets/colab-badge.svg\" alt=\"Open In Colab\"/></a>"
      ]
    },
    {
      "cell_type": "code",
      "execution_count": null,
      "metadata": {
        "colab": {
          "base_uri": "https://localhost:8080/"
        },
        "id": "vfwzsCCtUgSy",
        "outputId": "3c09c823-6bb8-4d77-8a2f-5a6d086439cb"
      },
      "outputs": [
        {
          "output_type": "stream",
          "name": "stdout",
          "text": [
            "HELLO CSE\n"
          ]
        }
      ],
      "source": [
        "print('HELLO CSE')"
      ]
    },
    {
      "cell_type": "markdown",
      "source": [
        "Using of Parameters in print() statement."
      ],
      "metadata": {
        "id": "_zHUHnpIY_bG"
      }
    },
    {
      "cell_type": "code",
      "source": [
        "print('Hello' , end='\\n\\n')\n",
        "print('ABIT')"
      ],
      "metadata": {
        "colab": {
          "base_uri": "https://localhost:8080/"
        },
        "id": "kQ0iQgcOZPuN",
        "outputId": "d0a108fe-51d5-4734-adf4-9a9d7f0a60c8"
      },
      "execution_count": null,
      "outputs": [
        {
          "output_type": "stream",
          "name": "stdout",
          "text": [
            "Hello\n",
            "\n",
            "ABIT\n"
          ]
        }
      ]
    },
    {
      "cell_type": "code",
      "source": [
        "a=6\n",
        "b=1\n",
        "c=2023\n",
        "print(a,b,c , sep='-')"
      ],
      "metadata": {
        "colab": {
          "base_uri": "https://localhost:8080/"
        },
        "id": "ZLHO1WBabh_z",
        "outputId": "2839ec9b-74c2-4a8c-e40a-8d022197317c"
      },
      "execution_count": null,
      "outputs": [
        {
          "output_type": "stream",
          "name": "stdout",
          "text": [
            "6-1-2023\n"
          ]
        }
      ]
    },
    {
      "cell_type": "code",
      "source": [
        "a =100\n",
        "print('a =' , a)"
      ],
      "metadata": {
        "colab": {
          "base_uri": "https://localhost:8080/"
        },
        "id": "cdr1EIVycRq7",
        "outputId": "c2292c52-d406-423b-9521-c52c5c4d4f49"
      },
      "execution_count": null,
      "outputs": [
        {
          "output_type": "stream",
          "name": "stdout",
          "text": [
            "a = 100\n"
          ]
        }
      ]
    },
    {
      "cell_type": "code",
      "source": [
        "nm=input('Enter Name')\n",
        "print(nm)"
      ],
      "metadata": {
        "colab": {
          "base_uri": "https://localhost:8080/"
        },
        "id": "fpQPXReFdPE4",
        "outputId": "c8de308b-950c-4a8e-ecb1-15477a10aed1"
      },
      "execution_count": null,
      "outputs": [
        {
          "output_type": "stream",
          "name": "stdout",
          "text": [
            "Enter NameRajiv\n",
            "Rajiv\n"
          ]
        }
      ]
    },
    {
      "cell_type": "code",
      "source": [
        "# Using of + operator.\n",
        "a = int(input('Enter a '))\n",
        "b = int(input ('Enter b'))\n",
        "c = a + b\n",
        "print('a + b =', c)"
      ],
      "metadata": {
        "colab": {
          "base_uri": "https://localhost:8080/"
        },
        "id": "tlndYc5CdoMV",
        "outputId": "16759756-0c0d-40a2-92a2-ce7dff46af1d"
      },
      "execution_count": null,
      "outputs": [
        {
          "output_type": "stream",
          "name": "stdout",
          "text": [
            "Enter a 22\n",
            "Enter b44\n",
            "a + b = 66\n"
          ]
        }
      ]
    },
    {
      "cell_type": "code",
      "source": [
        "# The type() function\n",
        "a = 100\n",
        "print(type(a))\n",
        "b = 33.55\n",
        "print(type(b))\n",
        "c= \"ABIT\"\n",
        "print(type(c))\n",
        "d = True\n",
        "print(type(d))\n"
      ],
      "metadata": {
        "colab": {
          "base_uri": "https://localhost:8080/"
        },
        "id": "bnByuB1_hkBR",
        "outputId": "1f7d2af3-72a8-4fdc-d949-bc62aada895a"
      },
      "execution_count": null,
      "outputs": [
        {
          "output_type": "stream",
          "name": "stdout",
          "text": [
            "<class 'int'>\n",
            "<class 'float'>\n",
            "<class 'str'>\n",
            "<class 'bool'>\n"
          ]
        }
      ]
    }
  ]
}