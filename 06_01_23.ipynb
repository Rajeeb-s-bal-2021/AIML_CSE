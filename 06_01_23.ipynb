{
  "nbformat": 4,
  "nbformat_minor": 0,
  "metadata": {
    "colab": {
      "provenance": [],
      "authorship_tag": "ABX9TyPeUh/3j0aNPZabc8nMOWjR",
      "include_colab_link": true
    },
    "kernelspec": {
      "name": "python3",
      "display_name": "Python 3"
    },
    "language_info": {
      "name": "python"
    }
  },
  "cells": [
    {
      "cell_type": "markdown",
      "metadata": {
        "id": "view-in-github",
        "colab_type": "text"
      },
      "source": [
        "<a href=\"https://colab.research.google.com/github/Rajeeb-s-bal-2021/AIML_CSE/blob/main/06_01_23.ipynb\" target=\"_parent\"><img src=\"https://colab.research.google.com/assets/colab-badge.svg\" alt=\"Open In Colab\"/></a>"
      ]
    },
    {
      "cell_type": "code",
      "execution_count": null,
      "metadata": {
        "colab": {
          "base_uri": "https://localhost:8080/"
        },
        "id": "rAhpchFXQDLp",
        "outputId": "c3f89686-2000-4c3e-a3d8-38f61a4fc36f"
      },
      "outputs": [
        {
          "output_type": "stream",
          "name": "stdout",
          "text": [
            "hello,saloni here\n"
          ]
        }
      ],
      "source": [
        "print(\"hello,saloni here\")"
      ]
    },
    {
      "cell_type": "markdown",
      "source": [
        "Use ofparameters in print() statement."
      ],
      "metadata": {
        "id": "ChgSOTALZFUt"
      }
    },
    {
      "cell_type": "code",
      "source": [
        "print(\"Hello\", end =\"\\n\\n \")\n",
        "print(\"ABIT\")"
      ],
      "metadata": {
        "colab": {
          "base_uri": "https://localhost:8080/"
        },
        "id": "b1hdawNaZdUo",
        "outputId": "ce212ab9-8415-41fe-9c44-51d561694421"
      },
      "execution_count": null,
      "outputs": [
        {
          "output_type": "stream",
          "name": "stdout",
          "text": [
            "Hello\n",
            "\n",
            " ABIT\n"
          ]
        }
      ]
    },
    {
      "cell_type": "code",
      "source": [
        "a=6\n",
        "b=1\n",
        "c=2023\n",
        "print(a,b,c, sep='-')"
      ],
      "metadata": {
        "colab": {
          "base_uri": "https://localhost:8080/"
        },
        "id": "SYL9_liNbzhP",
        "outputId": "4c430bb2-fe4d-4bd7-f72d-4d8e26ca4f38"
      },
      "execution_count": null,
      "outputs": [
        {
          "output_type": "stream",
          "name": "stdout",
          "text": [
            "6-1-2023\n"
          ]
        }
      ]
    },
    {
      "cell_type": "code",
      "source": [
        "a=100\n",
        "print('a = ',a)"
      ],
      "metadata": {
        "colab": {
          "base_uri": "https://localhost:8080/"
        },
        "id": "zCMDo-YNcVOK",
        "outputId": "57f8650c-7074-44f9-bf81-3a7aeb99077f"
      },
      "execution_count": null,
      "outputs": [
        {
          "output_type": "stream",
          "name": "stdout",
          "text": [
            "a =  100\n"
          ]
        }
      ]
    },
    {
      "cell_type": "code",
      "source": [
        "nm=input('enter name ')\n",
        "print(nm)"
      ],
      "metadata": {
        "colab": {
          "base_uri": "https://localhost:8080/"
        },
        "id": "HDkHyifddTRX",
        "outputId": "6a1331e4-4f0a-4c99-fea1-ba41ce3e0f10"
      },
      "execution_count": null,
      "outputs": [
        {
          "output_type": "stream",
          "name": "stdout",
          "text": [
            "enter name saloni\n",
            "saloni\n"
          ]
        }
      ]
    },
    {
      "cell_type": "code",
      "source": [
        "# use of + operator\n",
        "a = float(input('Enter a '))\n",
        "b = float(input('Enter b '))\n",
        "c = a + b\n",
        "print('a + b =', c) "
      ],
      "metadata": {
        "colab": {
          "base_uri": "https://localhost:8080/"
        },
        "id": "Q_cfVzPpd-aQ",
        "outputId": "497ba7f7-892d-4c02-c283-97ee2f053f30"
      },
      "execution_count": null,
      "outputs": [
        {
          "output_type": "stream",
          "name": "stdout",
          "text": [
            "Enter a 21.45\n",
            "Enter b 54.12\n",
            "a + b = 75.57\n"
          ]
        }
      ]
    },
    {
      "cell_type": "code",
      "source": [
        "# The type() function\n",
        "a = 100\n",
        "print(type(a))\n",
        "b = 33.55\n",
        "print(type(b))\n",
        "c= \"ABIT\"\n",
        "print(type(c))\n",
        "d = True\n",
        "print(type(d)) "
      ],
      "metadata": {
        "colab": {
          "base_uri": "https://localhost:8080/"
        },
        "id": "iCU8FqV7hn45",
        "outputId": "e15792cf-1b1d-435c-f6be-4fdc435f1c23"
      },
      "execution_count": null,
      "outputs": [
        {
          "output_type": "stream",
          "name": "stdout",
          "text": [
            "<class 'int'>\n",
            "<class 'float'>\n",
            "<class 'str'>\n",
            "<class 'bool'>\n"
          ]
        }
      ]
    },
    {
      "cell_type": "code",
      "source": [
        "#binary literals\n",
        "x=0b10100\n",
        "#decimal literal\n",
        "y=100\n",
        "#octal literal\n",
        "z=0o215\n",
        "#hexadecimal literal\n",
        "u=0x12d\n",
        "#float literal\n",
        "float_1=100.5\n",
        "float_2=1.5e2\n",
        "\n",
        "#complex literal\n",
        "a=5+3.14j\n",
        "\n",
        "print(x,y,z,u)\n",
        "print(float_1,float_2)\n",
        "print(a,a.imag,a.real)"
      ],
      "metadata": {
        "colab": {
          "base_uri": "https://localhost:8080/"
        },
        "id": "B64ia8kojuZ4",
        "outputId": "527aa94e-11bd-4517-a900-d6b20cba23cf"
      },
      "execution_count": null,
      "outputs": [
        {
          "output_type": "stream",
          "name": "stdout",
          "text": [
            "20 100 141 301\n",
            "100.5 150.0\n",
            "(5+3.14j) 3.14 5.0\n"
          ]
        }
      ]
    },
    {
      "cell_type": "code",
      "source": [
        "a=2+5j\n",
        "b=3+10j\n",
        "c=a+b\n",
        "print(c)"
      ],
      "metadata": {
        "colab": {
          "base_uri": "https://localhost:8080/"
        },
        "id": "3RTEluDUmsYC",
        "outputId": "5e6788ce-b82c-4331-b5a3-054ac88da7a5"
      },
      "execution_count": null,
      "outputs": [
        {
          "output_type": "stream",
          "name": "stdout",
          "text": [
            "(5+15j)\n"
          ]
        }
      ]
    },
    {
      "cell_type": "code",
      "source": [
        "#to create a table\n",
        "list = [1,2,3,4,5,6,7,8,9,10]\n",
        "n = int (input('Enter your choice'))\n",
        "for i in list:\n",
        "    c = n*i\n",
        "    print(c)"
      ],
      "metadata": {
        "colab": {
          "base_uri": "https://localhost:8080/"
        },
        "id": "VhlZS2zUabZx",
        "outputId": "085cc069-732e-407e-b906-2a34410c3f47"
      },
      "execution_count": 2,
      "outputs": [
        {
          "output_type": "stream",
          "name": "stdout",
          "text": [
            "Enter your choice2\n",
            "2\n",
            "4\n",
            "6\n",
            "8\n",
            "10\n",
            "12\n",
            "14\n",
            "16\n",
            "18\n",
            "20\n"
          ]
        }
      ]
    }
  ]
}